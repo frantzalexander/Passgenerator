{
 "cells": [
  {
   "cell_type": "markdown",
   "id": "adc7c3c2-4239-438f-81b1-9e961b2f2949",
   "metadata": {},
   "source": [
    "# <en><center>Password Generator</center></en>"
   ]
  },
  {
   "cell_type": "code",
   "execution_count": 27,
   "id": "900b75ec-424f-48ae-b977-cbda12834c39",
   "metadata": {},
   "outputs": [],
   "source": [
    "import random"
   ]
  },
  {
   "cell_type": "code",
   "execution_count": 33,
   "id": "a99f7466-a00c-4be6-aa1b-c00258c33a0b",
   "metadata": {},
   "outputs": [
    {
     "name": "stdin",
     "output_type": "stream",
     "text": [
      "How many letters would you like in your password? \n",
      " 9\n",
      "How many symbols would you like? \n",
      " 5\n",
      "How many numbers would you like \n",
      " 7\n"
     ]
    },
    {
     "name": "stdout",
     "output_type": "stream",
     "text": [
      "2W-3[iGq[DR1i+81H8(e8\n"
     ]
    }
   ],
   "source": [
    "letters = [\n",
    "    'a', 'b', 'c', 'd', 'e', 'f', 'g', 'h', 'i', 'j', \n",
    "    'k', 'l', 'm', 'n', 'o', 'p', 'q', 'r', 's', 't', \n",
    "    'u', 'v', 'w', 'x', 'y', 'z', \n",
    "    'A', 'B', 'C', 'D', 'E', 'F', 'G', 'H', 'I', 'J', \n",
    "    'K', 'L', 'M', 'N', 'O', 'P', 'Q', 'R', 'S', 'T', \n",
    "    'U', 'V', 'W', 'X', 'Y', 'Z'\n",
    "]\n",
    "numbers = ['0', '1', '2', '3', '4', '5', '6', '7', '8', '9']\n",
    "\n",
    "symbols = [\n",
    "    '!', '#', '$', '%', '&', \n",
    "    '(', ')', '*', '+', \"|\", \n",
    "    \"{\",\"}\", \"[\", \"]\", \"~\",\n",
    "    \">\", \"<\", \"=\", \"-\", \"?\",\n",
    "    \"/\", \",\"\n",
    "]\n",
    "\n",
    "nr_letters = int(input(\"How many letters would you like in your password? \\n\"))\n",
    "nr_symbols = int(input(\"How many symbols would you like? \\n\"))\n",
    "nr_numbers = int(input(\"How many numbers would you like \\n\"))\n",
    "\n",
    "secret_pass = []\n",
    "\n",
    "# Choosing the number of letters\n",
    "for letter in range(0, nr_letters):\n",
    "    random_letter = random.choice(letters)\n",
    "    secret_pass.append(random_letter)\n",
    "\n",
    "for symbol in range(0, nr_symbols):\n",
    "    random_symbol = random.choice(symbols)\n",
    "    secret_pass.append(random_symbol)\n",
    "\n",
    "for number in range(0, nr_numbers):\n",
    "    random_number = random.choice(numbers)\n",
    "    secret_pass.append(random_number)\n",
    "\n",
    "random.shuffle(word_pass)\n",
    "\n",
    "true_secret_word = \"\".join(word_pass)\n",
    "    \n",
    "print(f\"The secret password is: {true_secret_word}\")"
   ]
  }
 ],
 "metadata": {
  "kernelspec": {
   "display_name": "Python 3 (ipykernel)",
   "language": "python",
   "name": "python3"
  },
  "language_info": {
   "codemirror_mode": {
    "name": "ipython",
    "version": 3
   },
   "file_extension": ".py",
   "mimetype": "text/x-python",
   "name": "python",
   "nbconvert_exporter": "python",
   "pygments_lexer": "ipython3",
   "version": "3.10.10"
  }
 },
 "nbformat": 4,
 "nbformat_minor": 5
}
